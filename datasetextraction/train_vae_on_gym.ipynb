{
 "cells": [
  {
   "cell_type": "markdown",
   "source": [
    "# Learn VAE on Game datasets\n"
   ],
   "metadata": {
    "collapsed": false,
    "pycharm": {
     "name": "#%% md\n"
    }
   }
  },
  {
   "cell_type": "markdown",
   "source": [
    "## Standard-Imports\n"
   ],
   "metadata": {
    "collapsed": false
   }
  },
  {
   "cell_type": "code",
   "execution_count": 2,
   "outputs": [
    {
     "name": "stdout",
     "text": [
      "Requirement already satisfied: keras in c:\\programdata\\anaconda3\\envs\\forwardmodellearning\\lib\\site-packages (2.2.4)\nRequirement already satisfied: six>=1.9.0 in c:\\users\\dockhorn\\appdata\\roaming\\python\\python37\\site-packages (from keras) (1.12.0)\nRequirement already satisfied: keras-preprocessing>=1.0.5 in c:\\programdata\\anaconda3\\envs\\forwardmodellearning\\lib\\site-packages (from keras) (1.0.9)\nRequirement already satisfied: keras-applications>=1.0.6 in c:\\programdata\\anaconda3\\envs\\forwardmodellearning\\lib\\site-packages (from keras) (1.0.7)\nRequirement already satisfied: pyyaml in c:\\programdata\\anaconda3\\envs\\forwardmodellearning\\lib\\site-packages (from keras) (5.1.1)\nRequirement already satisfied: numpy>=1.9.1 in c:\\programdata\\anaconda3\\envs\\forwardmodellearning\\lib\\site-packages (from keras) (1.16.4)\nRequirement already satisfied: scipy>=0.14 in c:\\programdata\\anaconda3\\envs\\forwardmodellearning\\lib\\site-packages (from keras) (1.3.0)\nRequirement already satisfied: h5py in c:\\programdata\\anaconda3\\envs\\forwardmodellearning\\lib\\site-packages (from keras) (2.9.0)\n"
     ],
     "output_type": "stream"
    },
    {
     "name": "stderr",
     "text": [
      "You are using pip version 19.0.3, however version 19.1.1 is available.\nYou should consider upgrading via the 'python -m pip install --upgrade pip' command.\n"
     ],
     "output_type": "stream"
    }
   ],
   "source": [
    "import numpy as np\n",
    "import matplotlib.pyplot as plt\n",
    "\n",
    "# Install a pip package in the current Jupyter kernel\n",
    "import sys\n",
    "!{sys.executable} -m pip install keras\n"
   ],
   "metadata": {
    "collapsed": false,
    "pycharm": {
     "name": "#%% \n",
     "is_executing": false
    }
   }
  },
  {
   "cell_type": "markdown",
   "source": [
    "\n",
    "## Loading Datasets\n",
    "\n",
    "- Gym datasets will be used. The first test is about pong which has the most simple images.\n"
   ],
   "metadata": {
    "collapsed": false,
    "pycharm": {
     "name": "#%% md\n"
    }
   }
  },
  {
   "cell_type": "code",
   "execution_count": 3,
   "outputs": [
    {
     "name": "stdout",
     "text": [
      "load file:  record_Pong_v0_0.npz\n",
      "load file:  record_Pong_v0_1.npz\n",
      "load file:  record_Pong_v0_10.npz\n",
      "load file:  record_Pong_v0_100.npz\n",
      "load file:  record_Pong_v0_101.npz\n",
      "load file:  record_Pong_v0_102.npz\n",
      "load file:  record_Pong_v0_103.npz\n",
      "load file:  record_Pong_v0_104.npz\n",
      "load file:  record_Pong_v0_105.npz\n",
      "load file:  record_Pong_v0_11.npz\n",
      "loaded downsampled:  (13423, 64, 64, 3)\nloaded original:  (13423, 210, 160, 3)\nloaded actions:  (13423,)\nloaded rewards:  (13423,)\n"
     ],
     "output_type": "stream"
    }
   ],
   "source": [
    "\n",
    "game_name = \"Pong\"\n",
    "output = \"v0\"\n",
    "\n",
    "downsampled = []\n",
    "original = []\n",
    "actions = []\n",
    "rewards = []\n",
    "\n",
    "import os\n",
    "record_files = [filename for filename in os.listdir(f'./record/{game_name}')\n",
    "                    if os.path.isfile(f\"./record/{game_name}/{filename}\") and filename.startswith(f\"record_{game_name}_{output}\")]\n",
    "for file in record_files[0:10]:\n",
    "    print(\"load file: \", file)\n",
    "    data = np.load(f\"./record/{game_name}/{file}\", allow_pickle=True)\n",
    "    if len(downsampled) == 0:\n",
    "        downsampled = data[\"obs_downsampled\"]\n",
    "        original = data[\"obs_original\"]\n",
    "        actions = data[\"actions\"]\n",
    "        rewards = data[\"rewards\"]\n",
    "    else:\n",
    "        downsampled = np.concatenate((downsampled, data[\"obs_downsampled\"]))\n",
    "        original = np.concatenate((original, data[\"obs_original\"]))\n",
    "        actions = np.concatenate((actions, data[\"actions\"]))\n",
    "        rewards = np.concatenate((rewards, data[\"rewards\"]))\n",
    "\n",
    "downsampled = downsampled / 255.\n",
    "original = original / 255.\n",
    "\n",
    "print(\"loaded downsampled: \", downsampled.shape)\n",
    "print(\"loaded original: \", original.shape)\n",
    "print(\"loaded actions: \", actions.shape)\n",
    "print(\"loaded rewards: \", rewards.shape)\n"
   ],
   "metadata": {
    "collapsed": false,
    "pycharm": {
     "name": "#%% \n",
     "is_executing": false
    }
   }
  },
  {
   "cell_type": "markdown",
   "source": [
    "short test of trainings process with train test split\n"
   ],
   "metadata": {
    "collapsed": false,
    "pycharm": {
     "name": "#%% md\n"
    }
   }
  },
  {
   "cell_type": "code",
   "execution_count": 4,
   "outputs": [],
   "source": [
    "from sklearn.model_selection import train_test_split\n",
    "obs_train, obs_test, actions_train, actions_test, rewards_train, rewards_test = train_test_split(original, actions, rewards,\n",
    "                                                    test_size=0.25, shuffle=False)\n"
   ],
   "metadata": {
    "collapsed": false,
    "pycharm": {
     "name": "#%% \n",
     "is_executing": false
    }
   }
  },
  {
   "cell_type": "code",
   "execution_count": 4,
   "outputs": [
    {
     "name": "stdout",
     "text": [
      "(10067, 210, 160, 3)\n(10067,)\n"
     ],
     "output_type": "stream"
    }
   ],
   "source": [
    "print(obs_train.shape)\n",
    "print(actions_train.shape)\n"
   ],
   "metadata": {
    "collapsed": false,
    "pycharm": {
     "name": "#%%\n",
     "is_executing": false
    }
   }
  },
  {
   "cell_type": "code",
   "execution_count": 5,
   "outputs": [
    {
     "data": {
      "text/plain": "<Figure size 432x288 with 1 Axes>",
      "image/png": "[encoded data removed]"
     },
     "metadata": {
      "needs_background": "light"
     },
     "output_type": "display_data"
    },
    {
     "name": "stdout",
     "text": [
      "(10067, 210, 160, 3)\n"
     ],
     "output_type": "stream"
    }
   ],
   "source": [
    "import random\n",
    "index = random.choice(range(len(obs_train)))\n",
    "plt.imshow(obs_train[index,:,:,:])\n",
    "plt.title(\"Downsampled\")\n",
    "plt.tight_layout()\n",
    "plt.gca().get_xaxis().set_visible(False)\n",
    "plt.gca().get_yaxis().set_visible(False)\n",
    "plt.show()\n",
    "\n",
    "print(obs_train.shape)"
   ],
   "metadata": {
    "collapsed": false,
    "pycharm": {
     "name": "#%% \n",
     "is_executing": false
    }
   }
  },
  {
   "cell_type": "markdown",
   "source": [
    "## Simple Auto-Encoder\n"
   ],
   "metadata": {
    "collapsed": false,
    "pycharm": {
     "name": "#%% md\n"
    }
   }
  },
  {
   "cell_type": "code",
   "execution_count": null,
   "outputs": [],
   "source": [],
   "metadata": {
    "collapsed": false,
    "pycharm": {
     "name": "#%%\n"
    }
   }
  },
  {
   "cell_type": "code",
   "execution_count": 6,
   "outputs": [],
   "source": [
    "\n",
    "def pad_along_axis(array: np.ndarray, target_length, axis=0):\n",
    "\n",
    "    npad = [(0, 0) for _ in range(len(array.shape))]\n",
    "\n",
    "    for axes in axis:\n",
    "        \n",
    "        pad_size = (target_length - array.shape[axes])\n",
    "        if pad_size % 2 == 0:\n",
    "            npad[axes] = (pad_size//2, pad_size//2)\n",
    "        else:\n",
    "            npad[axes] = (pad_size//2, pad_size//2+1)\n",
    "\n",
    "    b = np.pad(array, pad_width=npad, mode='constant', constant_values=0)\n",
    "\n",
    "    return b\n"
   ],
   "metadata": {
    "collapsed": false,
    "pycharm": {
     "name": "#%%\n",
     "is_executing": false
    }
   }
  },
  {
   "cell_type": "markdown",
   "source": [
    "### test padding\n"
   ],
   "metadata": {
    "collapsed": false,
    "pycharm": {
     "name": "#%% md\n"
    }
   }
  },
  {
   "cell_type": "code",
   "execution_count": 7,
   "outputs": [
    {
     "data": {
      "text/plain": "<Figure size 432x288 with 1 Axes>",
      "image/png": "[encoded data removed]"
     },
     "metadata": {
      "needs_background": "light"
     },
     "output_type": "display_data"
    }
   ],
   "source": [
    "\n",
    "b = pad_along_axis(obs_train[1:3,:,:,:], 256, axis=[1,2])\n",
    "\n",
    "plt.imshow(b[0,:,:,:])\n",
    "plt.show()\n"
   ],
   "metadata": {
    "collapsed": false,
    "pycharm": {
     "name": "#%%\n",
     "is_executing": false
    }
   }
  },
  {
   "cell_type": "code",
   "execution_count": 14,
   "outputs": [],
   "source": [
    "\n",
    "import numpy as np\n",
    "\n",
    "from keras.layers import Input, Conv2D, MaxPooling2D, UpSampling2D\n",
    "from keras.models import Model\n",
    "from keras import backend as K\n",
    "\n",
    "input_img = Input(shape=(210, 160, 3))  # adapt this if using `channels_first` image data format\n",
    "\n",
    "x = Conv2D(16, (3, 3), activation='relu', padding='same')(input_img)\n",
    "x = MaxPooling2D((2, 2), padding='same')(x)\n",
    "x = Conv2D(8, (3, 3), activation='relu', padding='same')(x)\n",
    "encoded = MaxPooling2D((2, 2), padding='same')(x)\n",
    "\n",
    "x = UpSampling2D((2, 2))(encoded)\n",
    "x = Conv2D(16, (3, 3), activation='sigmoid', padding='same')(x)\n",
    "x = UpSampling2D((2, 2))(x)\n",
    "decoded = Conv2D(3, (3, 3), activation='sigmoid', padding='same')(x)\n",
    "\n",
    "autoencoder = Model(input_img, decoded)\n",
    "autoencoder.compile(optimizer='adadelta', loss='binary_crossentropy')\n"
   ],
   "metadata": {
    "collapsed": false,
    "pycharm": {
     "name": "#%%\n",
     "is_executing": false
    }
   }
  },
  {
   "cell_type": "code",
   "execution_count": 15,
   "outputs": [
    {
     "traceback": [
      "\u001b[1;31m---------------------------------------------------------------------------\u001b[0m",
      "\u001b[1;31mValueError\u001b[0m                                Traceback (most recent call last)",
      "\u001b[1;32m<ipython-input-15-cf87e7d3ad28>\u001b[0m in \u001b[0;36m<module>\u001b[1;34m\u001b[0m\n\u001b[0;32m      3\u001b[0m                 \u001b[0mbatch_size\u001b[0m\u001b[1;33m=\u001b[0m\u001b[1;36m1024\u001b[0m\u001b[1;33m,\u001b[0m\u001b[1;33m\u001b[0m\u001b[1;33m\u001b[0m\u001b[0m\n\u001b[0;32m      4\u001b[0m                 \u001b[0mshuffle\u001b[0m\u001b[1;33m=\u001b[0m\u001b[1;32mTrue\u001b[0m\u001b[1;33m,\u001b[0m\u001b[1;33m\u001b[0m\u001b[1;33m\u001b[0m\u001b[0m\n\u001b[1;32m----> 5\u001b[1;33m                 validation_data=(obs_test, obs_test))\n\u001b[0m\u001b[0;32m      6\u001b[0m \u001b[1;33m\u001b[0m\u001b[0m\n",
      "\u001b[1;32mC:\\ProgramData\\Anaconda3\\envs\\ForwardModelLearning\\lib\\site-packages\\keras\\engine\\training.py\u001b[0m in \u001b[0;36mfit\u001b[1;34m(self, x, y, batch_size, epochs, verbose, callbacks, validation_split, validation_data, shuffle, class_weight, sample_weight, initial_epoch, steps_per_epoch, validation_steps, **kwargs)\u001b[0m\n\u001b[0;32m    950\u001b[0m             \u001b[0msample_weight\u001b[0m\u001b[1;33m=\u001b[0m\u001b[0msample_weight\u001b[0m\u001b[1;33m,\u001b[0m\u001b[1;33m\u001b[0m\u001b[1;33m\u001b[0m\u001b[0m\n\u001b[0;32m    951\u001b[0m             \u001b[0mclass_weight\u001b[0m\u001b[1;33m=\u001b[0m\u001b[0mclass_weight\u001b[0m\u001b[1;33m,\u001b[0m\u001b[1;33m\u001b[0m\u001b[1;33m\u001b[0m\u001b[0m\n\u001b[1;32m--> 952\u001b[1;33m             batch_size=batch_size)\n\u001b[0m\u001b[0;32m    953\u001b[0m         \u001b[1;31m# Prepare validation data.\u001b[0m\u001b[1;33m\u001b[0m\u001b[1;33m\u001b[0m\u001b[1;33m\u001b[0m\u001b[0m\n\u001b[0;32m    954\u001b[0m         \u001b[0mdo_validation\u001b[0m \u001b[1;33m=\u001b[0m \u001b[1;32mFalse\u001b[0m\u001b[1;33m\u001b[0m\u001b[1;33m\u001b[0m\u001b[0m\n",
      "\u001b[1;32mC:\\ProgramData\\Anaconda3\\envs\\ForwardModelLearning\\lib\\site-packages\\keras\\engine\\training.py\u001b[0m in \u001b[0;36m_standardize_user_data\u001b[1;34m(self, x, y, sample_weight, class_weight, check_array_lengths, batch_size)\u001b[0m\n\u001b[0;32m    787\u001b[0m                 \u001b[0mfeed_output_shapes\u001b[0m\u001b[1;33m,\u001b[0m\u001b[1;33m\u001b[0m\u001b[1;33m\u001b[0m\u001b[0m\n\u001b[0;32m    788\u001b[0m                 \u001b[0mcheck_batch_axis\u001b[0m\u001b[1;33m=\u001b[0m\u001b[1;32mFalse\u001b[0m\u001b[1;33m,\u001b[0m  \u001b[1;31m# Don't enforce the batch size.\u001b[0m\u001b[1;33m\u001b[0m\u001b[1;33m\u001b[0m\u001b[0m\n\u001b[1;32m--> 789\u001b[1;33m                 exception_prefix='target')\n\u001b[0m\u001b[0;32m    790\u001b[0m \u001b[1;33m\u001b[0m\u001b[0m\n\u001b[0;32m    791\u001b[0m             \u001b[1;31m# Generate sample-wise weight values given the `sample_weight` and\u001b[0m\u001b[1;33m\u001b[0m\u001b[1;33m\u001b[0m\u001b[1;33m\u001b[0m\u001b[0m\n",
      "\u001b[1;32mC:\\ProgramData\\Anaconda3\\envs\\ForwardModelLearning\\lib\\site-packages\\keras\\engine\\training_utils.py\u001b[0m in \u001b[0;36mstandardize_input_data\u001b[1;34m(data, names, shapes, check_batch_axis, exception_prefix)\u001b[0m\n\u001b[0;32m    136\u001b[0m                             \u001b[1;34m': expected '\u001b[0m \u001b[1;33m+\u001b[0m \u001b[0mnames\u001b[0m\u001b[1;33m[\u001b[0m\u001b[0mi\u001b[0m\u001b[1;33m]\u001b[0m \u001b[1;33m+\u001b[0m \u001b[1;34m' to have shape '\u001b[0m \u001b[1;33m+\u001b[0m\u001b[1;33m\u001b[0m\u001b[1;33m\u001b[0m\u001b[0m\n\u001b[0;32m    137\u001b[0m                             \u001b[0mstr\u001b[0m\u001b[1;33m(\u001b[0m\u001b[0mshape\u001b[0m\u001b[1;33m)\u001b[0m \u001b[1;33m+\u001b[0m \u001b[1;34m' but got array with shape '\u001b[0m \u001b[1;33m+\u001b[0m\u001b[1;33m\u001b[0m\u001b[1;33m\u001b[0m\u001b[0m\n\u001b[1;32m--> 138\u001b[1;33m                             str(data_shape))\n\u001b[0m\u001b[0;32m    139\u001b[0m     \u001b[1;32mreturn\u001b[0m \u001b[0mdata\u001b[0m\u001b[1;33m\u001b[0m\u001b[1;33m\u001b[0m\u001b[0m\n\u001b[0;32m    140\u001b[0m \u001b[1;33m\u001b[0m\u001b[0m\n",
      "\u001b[1;31mValueError\u001b[0m: Error when checking target: expected conv2d_19 to have shape (212, 160, 3) but got array with shape (210, 160, 3)"
     ],
     "ename": "ValueError",
     "evalue": "Error when checking target: expected conv2d_19 to have shape (212, 160, 3) but got array with shape (210, 160, 3)",
     "output_type": "error"
    }
   ],
   "source": [
    "autoencoder.fit(obs_train, obs_train,\n",
    "                epochs=1,\n",
    "                batch_size=1024,\n",
    "                shuffle=True,\n",
    "                validation_data=(obs_test, obs_test))\n"
   ],
   "metadata": {
    "collapsed": false,
    "pycharm": {
     "name": "#%%\n",
     "is_executing": false
    }
   }
  },
  {
   "cell_type": "code",
   "execution_count": 32,
   "outputs": [
    {
     "data": {
      "text/plain": "<Figure size 432x720 with 10 Axes>",
      "image/png": "[encoded data removed]"
     },
     "metadata": {
      "needs_background": "light"
     },
     "output_type": "display_data"
    }
   ],
   "source": [
    "\n",
    "decoded_imgs = autoencoder.predict(obs_test / 255.)\n",
    "\n",
    "n = 5\n",
    "_, ax = plt.subplots(n,2, figsize=(6,10))\n",
    "\n",
    "for i in range(n):\n",
    "    # display original\n",
    "    ax[i,0].imshow(obs_test[i,:,:,:].reshape(210, 160, 3))\n",
    "    ax[i,0].get_xaxis().set_visible(False)\n",
    "    ax[i,0].get_yaxis().set_visible(False)\n",
    "    \n",
    "    # display reconstruction\n",
    "    ax[i,1].imshow(decoded_imgs[i,:,:,:].reshape(210, 160, 3))\n",
    "    ax[i,1].get_xaxis().set_visible(False)\n",
    "    ax[i,1].get_yaxis().set_visible(False)\n",
    "    \n",
    "    if i == 0:\n",
    "        ax[i,0].set_title(\"original\")\n",
    "        ax[i,1].set_title(\"reconstructed\")\n",
    "        \n",
    "plt.tight_layout()\n",
    "plt.show()\n",
    "    "
   ],
   "metadata": {
    "collapsed": false,
    "pycharm": {
     "name": "#%%\n",
     "is_executing": false
    }
   }
  },
  {
   "cell_type": "code",
   "execution_count": 36,
   "outputs": [
    {
     "name": "stdout",
     "text": [
      "[array([0]) 1 1 5]\n"
     ],
     "output_type": "stream"
    }
   ],
   "source": [
    "print(actions[0:4])\n",
    "\n"
   ],
   "metadata": {
    "collapsed": false,
    "pycharm": {
     "name": "#%% \n",
     "is_executing": false
    }
   }
  },
  {
   "cell_type": "markdown",
   "source": [
    "\n",
    "## Simple Convolutional Variational Auto-Encoder\n"
   ],
   "metadata": {
    "collapsed": false,
    "pycharm": {
     "name": "#%% md\n"
    }
   }
  },
  {
   "cell_type": "code",
   "execution_count": 14,
   "outputs": [],
   "source": [
    "\n",
    "import numpy as np\n",
    "import json\n",
    "import tensorflow as tf\n",
    "import os\n",
    "\n",
    "\n",
    "def reset_graph():\n",
    "    if 'sess' in globals() and sess:\n",
    "        sess.close()\n",
    "    tf.reset_default_graph()\n",
    "\n",
    "\n",
    "class ConvVAE(object):\n",
    "    def __init__(self, z_size=32, batch_size=1, learning_rate=0.0001, kl_tolerance=0.5, is_training=False,\n",
    "                 reuse=False, gpu_mode=False, input_size=None, kloss_constant = 1):\n",
    "        self.z_size = z_size\n",
    "        self.batch_size = batch_size\n",
    "        self.learning_rate = learning_rate\n",
    "        self.is_training = is_training\n",
    "        self.kl_tolerance = kl_tolerance\n",
    "        self.reuse = reuse\n",
    "        self.input_size = input_size\n",
    "        self.kloss_constant = kloss_constant\n",
    "\n",
    "        with tf.variable_scope('conv_vae', reuse=self.reuse):\n",
    "            if not gpu_mode:\n",
    "                with tf.device('/cpu:0'):\n",
    "                    tf.logging.info('Model using cpu.')\n",
    "                    self._build_graph()\n",
    "            else:\n",
    "                tf.logging.info('Model using gpu.')\n",
    "                self._build_graph()\n",
    "        self._init_session()\n",
    "\n",
    "    def _build_graph(self):\n",
    "        self.g = tf.Graph()\n",
    "        with self.g.as_default():\n",
    "            if self.input_size is None:\n",
    "                self.x = tf.placeholder(tf.float32, shape=[None, 64, 64, 3])\n",
    "            else:\n",
    "                self.x = tf.placeholder(tf.float32, shape=[None, *self.input_size])\n",
    "\n",
    "            # Encoder\n",
    "            h = tf.layers.conv2d(self.x, 8, 4, strides=2, activation=tf.nn.relu, name=\"enc_conv1\")\n",
    "            h = tf.layers.conv2d(h, 16, 4, strides=2, activation=tf.nn.relu, name=\"enc_conv2\")\n",
    "            h = tf.layers.conv2d(h, 32, 4, strides=2, activation=tf.nn.relu, name=\"enc_conv3\")\n",
    "            h = tf.layers.conv2d(h, 64, 4, strides=2, activation=tf.nn.relu, name=\"enc_conv4\")\n",
    "            h = tf.layers.conv2d(h, 128, 4, strides=2, activation=tf.nn.relu, name=\"enc_conv5\")\n",
    "            h = tf.layers.conv2d(h, 256, 4, strides=2, activation=tf.nn.relu, name=\"enc_conv6\")\n",
    "            h = tf.reshape(h, [-1, 2 * 2 * 256])\n",
    "\n",
    "            # VAE\n",
    "            self.mu = tf.layers.dense(h, self.z_size, name=\"enc_fc_mu\")\n",
    "            self.logvar = tf.layers.dense(h, self.z_size, name=\"enc_fc_log_var\")\n",
    "            self.sigma = tf.exp(self.logvar / 2.0)\n",
    "            self.epsilon = tf.random_normal([self.batch_size, self.z_size])\n",
    "            self.z = self.mu + self.sigma * self.epsilon\n",
    "\n",
    "            # Decoder\n",
    "            h = tf.layers.dense(self.z, 4 * 256, name=\"dec_fc\")\n",
    "            h = tf.reshape(h, [-1, 1, 1, 4 * 256])\n",
    "            h = tf.layers.conv2d_transpose(h, 128, 5, strides=2, activation=tf.nn.relu, name=\"dec_deconv1\")\n",
    "            h = tf.layers.conv2d_transpose(h, 64, 5, strides=2, activation=tf.nn.relu, name=\"dec_deconv2\")\n",
    "            h = tf.layers.conv2d_transpose(h, 32, 5, strides=2, activation=tf.nn.relu, name=\"dec_deconv3\")\n",
    "            h = tf.layers.conv2d_transpose(h, 16, 5, strides=2, activation=tf.nn.relu, name=\"dec_deconv4\")\n",
    "            h = tf.layers.conv2d_transpose(h, 8, 6, strides=2, activation=tf.nn.relu, name=\"dec_deconv5\")\n",
    "            self.y = tf.layers.conv2d_transpose(h, 3, 6, strides=2, activation=tf.nn.sigmoid, name=\"dec_deconv6\")\n",
    "\n",
    "            # train ops\n",
    "            if self.is_training:\n",
    "                self.global_step = tf.Variable(0, name='global_step', trainable=False)\n",
    "\n",
    "                eps = 1e-6  # avoid taking log of zero\n",
    "\n",
    "                # reconstruction loss\n",
    "                self.r_loss = tf.reduce_sum(\n",
    "                    tf.square(self.x - self.y),\n",
    "                    reduction_indices=[1, 2, 3]\n",
    "                )\n",
    "                self.r_loss = tf.reduce_mean(self.r_loss)\n",
    "\n",
    "                # augmented kl loss per dim\n",
    "                self.kl_loss = - 0.5 * tf.reduce_sum(\n",
    "                    (1 + self.logvar - tf.square(self.mu) - tf.exp(self.logvar)),\n",
    "                    reduction_indices=1\n",
    "                )\n",
    "                self.kl_loss = tf.maximum(self.kl_loss, self.kl_tolerance * self.z_size)\n",
    "                self.kl_loss = tf.reduce_mean(self.kl_loss)\n",
    "                self.kl_loss = self.kl_loss * self.kloss_constant\n",
    "\n",
    "                self.loss = self.r_loss + self.kl_loss\n",
    "\n",
    "                # training\n",
    "                self.lr = tf.Variable(self.learning_rate, trainable=False)\n",
    "                self.optimizer = tf.train.AdamOptimizer(self.lr)\n",
    "                grads = self.optimizer.compute_gradients(self.loss)  # can potentially clip gradients here.\n",
    "\n",
    "                self.train_op = self.optimizer.apply_gradients(\n",
    "                    grads, global_step=self.global_step, name='train_step')\n",
    "\n",
    "            # initialize vars\n",
    "            self.init = tf.global_variables_initializer()\n",
    "\n",
    "            t_vars = tf.trainable_variables()\n",
    "            self.assign_ops = {}\n",
    "            for var in t_vars:\n",
    "                # if var.name.startswith('conv_vae'):\n",
    "                pshape = var.get_shape()\n",
    "                pl = tf.placeholder(tf.float32, pshape, var.name[:-2] + '_placeholder')\n",
    "                assign_op = var.assign(pl)\n",
    "                self.assign_ops[var] = (assign_op, pl)\n",
    "\n",
    "    def _init_session(self):\n",
    "        \"\"\"Launch TensorFlow session and initialize variables\"\"\"\n",
    "        self.sess = tf.Session(graph=self.g)\n",
    "        self.sess.run(self.init)\n",
    "\n",
    "    def close_sess(self):\n",
    "        \"\"\" Close TensorFlow session \"\"\"\n",
    "        self.sess.close()\n",
    "\n",
    "    def encode(self, x):\n",
    "        return self.sess.run(self.z, feed_dict={self.x: x})\n",
    "\n",
    "    def encode_mu_logvar(self, x):\n",
    "        (mu, logvar) = self.sess.run([self.mu, self.logvar], feed_dict={self.x: x})\n",
    "        return mu, logvar\n",
    "\n",
    "    def decode(self, z):\n",
    "        return self.sess.run(self.y, feed_dict={self.z: z})\n",
    "\n",
    "    def get_model_params(self):\n",
    "        # get trainable params.\n",
    "        model_names = []\n",
    "        model_params = []\n",
    "        model_shapes = []\n",
    "        with self.g.as_default():\n",
    "            t_vars = tf.trainable_variables()\n",
    "            for var in t_vars:\n",
    "                # if var.name.startswith('conv_vae'):\n",
    "                param_name = var.name\n",
    "                p = self.sess.run(var)\n",
    "                model_names.append(param_name)\n",
    "                params = np.round(p * 10000).astype(np.int).tolist()\n",
    "                model_params.append(params)\n",
    "                model_shapes.append(p.shape)\n",
    "        return model_params, model_shapes, model_names\n",
    "\n",
    "    def get_random_model_params(self, stdev=0.5):\n",
    "        # get random params.\n",
    "        _, mshape, _ = self.get_model_params()\n",
    "        rparam = []\n",
    "        for s in mshape:\n",
    "            # rparam.append(np.random.randn(*s)*stdev)\n",
    "            rparam.append(np.random.standard_cauchy(s) * stdev)  # spice things up\n",
    "        return rparam\n",
    "\n",
    "    def set_model_params(self, params):\n",
    "        with self.g.as_default():\n",
    "            t_vars = tf.trainable_variables()\n",
    "            idx = 0\n",
    "            for var in t_vars:\n",
    "                # if var.name.startswith('conv_vae'):\n",
    "                pshape = tuple(var.get_shape().as_list())\n",
    "                p = np.array(params[idx])\n",
    "                assert pshape == p.shape, \"inconsistent shape\"\n",
    "                assign_op, pl = self.assign_ops[var]\n",
    "                self.sess.run(assign_op, feed_dict={pl.name: p / 10000.})\n",
    "                idx += 1\n",
    "\n",
    "    def load_json(self, jsonfile='vae.json'):\n",
    "        with open(jsonfile, 'r') as f:\n",
    "            params = json.load(f)\n",
    "        self.set_model_params(params)\n",
    "\n",
    "    def save_json(self, jsonfile='vae.json'):\n",
    "        model_params, model_shapes, model_names = self.get_model_params()\n",
    "        qparams = []\n",
    "        for p in model_params:\n",
    "            qparams.append(p)\n",
    "        with open(jsonfile, 'wt') as outfile:\n",
    "            json.dump(qparams, outfile, sort_keys=True, indent=0, separators=(',', ': '))\n",
    "\n",
    "    def set_random_params(self, stdev=0.5):\n",
    "        rparam = self.get_random_model_params(stdev)\n",
    "        self.set_model_params(rparam)\n",
    "\n",
    "    def save_model(self, model_save_path):\n",
    "        sess = self.sess\n",
    "        with self.g.as_default():\n",
    "            saver = tf.train.Saver(tf.global_variables())\n",
    "        checkpoint_path = os.path.join(model_save_path, 'vae')\n",
    "        tf.logging.info('saving model %s.', checkpoint_path)\n",
    "        saver.save(sess, checkpoint_path, 0)  # just keep one\n",
    "\n",
    "    def load_checkpoint(self, checkpoint_path):\n",
    "        sess = self.sess\n",
    "        with self.g.as_default():\n",
    "            saver = tf.train.Saver(tf.global_variables())\n",
    "        ckpt = tf.train.get_checkpoint_state(checkpoint_path)\n",
    "        print('loading model', ckpt.model_checkpoint_path)\n",
    "        tf.logging.info('Loading model %s.', ckpt.model_checkpoint_path)\n",
    "        saver.restore(sess, ckpt.model_checkpoint_path)\n",
    "\n"
   ],
   "metadata": {
    "collapsed": false,
    "pycharm": {
     "name": "#%%\n",
     "is_executing": false
    }
   }
  },
  {
   "cell_type": "code",
   "execution_count": 15,
   "outputs": [
    {
     "name": "stdout",
     "text": [
      "INFO:tensorflow:Model using gpu.\n",
      "num_batches per epoch = 157\ntrain step loss recon_loss kl_loss\nepoch: 0\n",
      "step 10 49178.406 33178.406 16000.0\n",
      "step 20 49143.02 33143.02 16000.0\n",
      "step 30 49044.945 33044.945 16000.0\n",
      "step 40 48251.33 32251.328 16000.0\n",
      "step 50 46859.707 30859.707 16000.0\n",
      "step 60 45269.02 29269.02 16000.0\n",
      "step 70 43223.09 27223.09 16000.0\n",
      "step 80 39913.68 23913.682 16000.0\n",
      "step 90 37065.277 21065.277 16000.0\n",
      "step 100 34842.68 18842.678 16000.0\n",
      "step 110 33112.734 17112.732 16000.0\n",
      "step 120 31511.516 15511.515 16000.0\n",
      "step 130 29606.436 13606.436 16000.0\n",
      "step 140 27795.844 11795.843 16000.0\n",
      "step 150 26696.062 10696.062 16000.0\n"
     ],
     "output_type": "stream"
    }
   ],
   "source": [
    "\n",
    "# Hyperparameters for ConvVAE\n",
    "z_size=32\n",
    "batch_size=64\n",
    "learning_rate=0.0001\n",
    "kl_tolerance=0.5\n",
    "\n",
    "vae = ConvVAE(z_size=z_size,\n",
    "              batch_size=batch_size,\n",
    "              learning_rate=learning_rate,\n",
    "              kl_tolerance=kl_tolerance,\n",
    "              is_training=True,\n",
    "              reuse=False,\n",
    "              gpu_mode=True,\n",
    "              input_size=[256, 256, 3],\n",
    "              kloss_constant=1000)\n",
    "\n",
    "reset_graph()\n"
   ],
   "metadata": {
    "collapsed": false,
    "pycharm": {
     "name": "#%%\n",
     "is_executing": false
    }
   }
  },
  {
   "cell_type": "code",
   "execution_count": 30,
   "outputs": [],
   "source": [
    "total_epochs = 10\n"
   ],
   "metadata": {
    "collapsed": false,
    "pycharm": {
     "name": "#%%\n",
     "is_executing": false
    }
   }
  },
  {
   "cell_type": "code",
   "execution_count": 33,
   "outputs": [
    {
     "name": "stdout",
     "text": [
      "num_batches per epoch = 157\ntrain step loss recon_loss kl_loss\nepoch: 0\n",
      "step 3150 16100.04 100.040504 16000.0\n",
      "step 3160 16100.282 100.28192 16000.0\n",
      "step 3170 16097.999 97.99899 16000.0\n",
      "step 3180 16099.602 99.601425 16000.0\n",
      "step 3190 16099.026 99.02638 16000.0\n",
      "step 3200 16097.066 97.06654 16000.0\n",
      "step 3210 16098.054 98.054 16000.0\n",
      "step 3220 16096.927 96.92647 16000.0\n",
      "step 3230 16096.434 96.43404 16000.0\n",
      "step 3240 16097.278 97.27867 16000.0\n",
      "step 3250 16096.429 96.42883 16000.0\n",
      "step 3260 16097.472 97.471634 16000.0\n",
      "step 3270 16095.742 95.669685 16000.072\n",
      "step 3280 16096.157 96.15708 16000.0\n",
      "step 3290 16097.3125 97.3123 16000.0\n",
      "epoch: 1\n",
      "step 3300 16096.266 96.265305 16000.0\n",
      "step 3310 16103.265 97.09836 16006.166\n",
      "step 3320 16113.513 113.51311 16000.0\n",
      "step 3330 16105.654 105.65433 16000.0\n",
      "step 3340 16102.666 102.66597 16000.0\n",
      "step 3350 16099.423 99.42287 16000.0\n",
      "step 3360 16098.81 98.80953 16000.0\n",
      "step 3370 16101.493 101.493515 16000.0\n",
      "step 3380 16099.302 99.301384 16000.0\n",
      "step 3390 16098.024 98.024734 16000.0\n",
      "step 3400 16095.572 95.571915 16000.0\n",
      "step 3410 16094.659 94.65886 16000.0\n",
      "step 3420 16096.77 96.76911 16000.0\n",
      "step 3430 16095.346 95.346115 16000.0\n",
      "step 3440 16095.21 95.21002 16000.0\n",
      "step 3450 16093.224 93.22377 16000.0\n",
      "epoch: 2\n",
      "step 3460 16094.28 94.28046 16000.0\n",
      "step 3470 16090.682 90.68199 16000.0\n",
      "step 3480 16091.135 91.13482 16000.0\n",
      "step 3490 16092.296 92.29543 16000.0\n",
      "step 3500 16092.575 92.5751 16000.0\n",
      "step 3510 16093.406 93.40652 16000.0\n",
      "step 3520 16092.309 92.30886 16000.0\n",
      "step 3530 16093.299 93.29884 16000.0\n",
      "step 3540 16089.921 89.920494 16000.0\n",
      "step 3550 16090.483 90.48365 16000.0\n",
      "step 3560 16091.122 91.12193 16000.0\n",
      "step 3570 16092.572 92.57265 16000.0\n",
      "step 3580 16090.087 90.08682 16000.0\n",
      "step 3590 16091.087 91.08668 16000.0\n",
      "step 3600 16089.02 89.019844 16000.0\n",
      "step 3610 16091.316 91.31671 16000.0\n",
      "epoch: 3\n",
      "step 3620 16090.321 90.32092 16000.0\n",
      "step 3630 16088.186 88.1853 16000.0\n",
      "step 3640 16090.792 90.792206 16000.0\n",
      "step 3650 16087.242 87.242645 16000.0\n",
      "step 3660 16086.413 86.41335 16000.0\n",
      "step 3670 16089.082 89.08182 16000.0\n",
      "step 3680 16088.237 88.2374 16000.0\n",
      "step 3690 16088.818 88.81856 16000.0\n",
      "step 3700 16087.328 87.32824 16000.0\n",
      "step 3710 16089.729 89.728516 16000.0\n",
      "step 3720 16086.755 86.75447 16000.0\n",
      "step 3730 16088.738 88.738075 16000.0\n",
      "step 3740 16089.458 89.4581 16000.0\n",
      "step 3750 16086.255 86.25497 16000.0\n",
      "step 3760 16089.223 89.22277 16000.0\n",
      "epoch: 4\n",
      "step 3770 16083.946 83.94677 16000.0\n",
      "step 3780 16087.211 87.21051 16000.0\n",
      "step 3790 16086.975 86.97472 16000.0\n",
      "step 3800 16085.103 85.1026 16000.0\n",
      "step 3810 16084.477 84.47675 16000.0\n",
      "step 3820 16085.884 85.88403 16000.0\n",
      "step 3830 16086.682 86.68122 16000.0\n",
      "step 3840 16084.844 84.84403 16000.0\n",
      "step 3850 16085.141 85.14084 16000.0\n",
      "step 3860 16084.367 84.36699 16000.0\n",
      "step 3870 16084.427 84.42649 16000.0\n",
      "step 3880 16087.957 87.95722 16000.0\n",
      "step 3890 16085.673 85.672424 16000.0\n",
      "step 3900 16084.604 84.60343 16000.0\n",
      "step 3910 16085.468 85.4673 16000.0\n",
      "step 3920 16083.942 83.94194 16000.0\n",
      "epoch: 5\n",
      "step 3930 16085.665 85.665054 16000.0\n",
      "step 3940 16085.37 85.370026 16000.0\n",
      "step 3950 16085.256 85.25594 16000.0\n",
      "step 3960 16081.876 81.8764 16000.0\n",
      "step 3970 16082.068 82.068344 16000.0\n",
      "step 3980 16082.795 82.79494 16000.0\n",
      "step 3990 16084.642 84.64131 16000.0\n",
      "step 4000 16082.1875 82.18732 16000.0\n",
      "step 4010 16080.028 80.028145 16000.0\n",
      "step 4020 16081.73 81.73067 16000.0\n",
      "step 4030 16083.218 83.21788 16000.0\n",
      "step 4040 16080.151 80.15108 16000.0\n",
      "step 4050 16083.12 83.12002 16000.0\n",
      "step 4060 16083.674 83.67377 16000.0\n",
      "step 4070 16083.516 83.51575 16000.0\n",
      "step 4080 16079.778 79.77815 16000.0\n",
      "epoch: 6\n",
      "step 4090 16080.323 80.32328 16000.0\n",
      "step 4100 16080.374 80.37395 16000.0\n",
      "step 4110 16082.172 82.17145 16000.0\n",
      "step 4120 16086.62 86.62045 16000.0\n",
      "step 4130 16084.019 84.018745 16000.0\n",
      "step 4140 16080.005 80.00467 16000.0\n",
      "step 4150 16081.088 81.08797 16000.0\n",
      "step 4160 16079.89 79.88995 16000.0\n",
      "step 4170 16081.243 81.242874 16000.0\n",
      "step 4180 16080.255 80.255066 16000.0\n",
      "step 4190 16081.997 81.997406 16000.0\n",
      "step 4200 16082.613 82.61291 16000.0\n",
      "step 4210 16078.86 78.860085 16000.0\n",
      "step 4220 16078.921 78.9207 16000.0\n",
      "step 4230 16080.122 80.12175 16000.0\n",
      "step 4240 16077.533 77.53303 16000.0\n",
      "epoch: 7\n",
      "step 4250 16080.217 80.21692 16000.0\n",
      "step 4260 16079.903 79.90288 16000.0\n",
      "step 4270 16078.541 78.54062 16000.0\n",
      "step 4280 16077.54 77.53986 16000.0\n",
      "step 4290 16077.057 77.05681 16000.0\n",
      "step 4300 16077.002 77.001495 16000.0\n",
      "step 4310 16077.9375 77.937744 16000.0\n",
      "step 4320 16076.794 76.7942 16000.0\n",
      "step 4330 16077.047 77.047325 16000.0\n",
      "step 4340 16077.359 77.35965 16000.0\n",
      "step 4350 16080.783 80.783325 16000.0\n",
      "step 4360 16077.605 77.60535 16000.0\n",
      "step 4370 16077.025 77.02577 16000.0\n",
      "step 4380 16080.091 80.091156 16000.0\n",
      "step 4390 16081.596 81.59551 16000.0\n",
      "epoch: 8\n",
      "step 4400 16080.562 80.56174 16000.0\n",
      "step 4410 16077.08 77.079895 16000.0\n",
      "step 4420 16076.16 76.160416 16000.0\n",
      "step 4430 16075.79 75.79031 16000.0\n",
      "step 4440 16074.603 74.60242 16000.0\n",
      "step 4450 16078.219 78.218765 16000.0\n",
      "step 4460 16073.026 73.02627 16000.0\n",
      "step 4470 16076.815 76.81523 16000.0\n",
      "step 4480 16073.967 73.9666 16000.0\n",
      "step 4490 16076.302 76.30141 16000.0\n",
      "step 4500 16074.601 74.60033 16000.0\n",
      "step 4510 16074.738 74.73855 16000.0\n",
      "step 4520 16074.949 74.9489 16000.0\n",
      "step 4530 16075.067 75.06696 16000.0\n",
      "step 4540 16073.911 73.9113 16000.0\n",
      "step 4550 16076.008 76.00792 16000.0\n",
      "epoch: 9\n",
      "step 4560 16074.894 74.893265 16000.0\n",
      "step 4570 16074.585 74.58481 16000.0\n",
      "step 4580 16074.159 74.15961 16000.0\n",
      "step 4590 16075.647 75.647 16000.0\n",
      "step 4600 16074.934 74.933304 16000.0\n",
      "step 4610 16071.373 71.37353 16000.0\n",
      "step 4620 16074.953 74.95339 16000.0\n",
      "step 4630 16073.332 73.33191 16000.0\n",
      "step 4640 16073.714 73.7136 16000.0\n",
      "step 4650 16075.52 75.519394 16000.0\n",
      "step 4660 16073.893 73.89274 16000.0\n",
      "step 4670 16072.074 72.07443 16000.0\n",
      "step 4680 16073.1875 73.187195 16000.0\n",
      "step 4690 16073.386 73.38554 16000.0\n",
      "step 4700 16071.363 71.363556 16000.0\n",
      "step 4710 16071.143 71.142235 16000.0\n"
     ],
     "output_type": "stream"
    }
   ],
   "source": [
    "\n",
    "NUM_EPOCH = 10\n",
    "dataset = obs_train\n",
    "\n",
    "total_length = len(dataset)\n",
    "\n",
    "num_batches = int(np.floor(total_length/batch_size))\n",
    "print(f\"num_batches per epoch = {num_batches}\")\n",
    "\n",
    "# train loop:\n",
    "\n",
    "print(\"train\", \"step\", \"loss\", \"recon_loss\", \"kl_loss\")\n",
    "for epoch in range(NUM_EPOCH):\n",
    "  print(f\"epoch: {epoch}\")\n",
    "  np.random.shuffle(dataset)\n",
    "  for idx in range(num_batches):\n",
    "    batch = dataset[idx*batch_size:(idx+1)*batch_size]\n",
    "\n",
    "    obs = batch.astype(np.float)\n",
    "    obs = pad_along_axis(obs, 256, axis=[1,2])\n",
    "\n",
    "    feed = {vae.x: obs,}\n",
    "\n",
    "    (train_loss, r_loss, kl_loss, train_step, _) = vae.sess.run([\n",
    "      vae.loss, vae.r_loss, vae.kl_loss, vae.global_step, vae.train_op\n",
    "    ], feed)\n",
    "  \n",
    "    if ((train_step+1) % 10 == 0):\n",
    "      print(\"step\", (train_step+1), train_loss, r_loss, kl_loss)\n",
    "  \n",
    "  total_epochs += 1  \n",
    "  vae.save_json(f\"tf_vae/vae_epochs_{game_name}_{total_epochs}.json\")\n",
    "          "
   ],
   "metadata": {
    "collapsed": false,
    "pycharm": {
     "name": "#%%\n",
     "is_executing": false
    }
   }
  },
  {
   "cell_type": "code",
   "execution_count": 34,
   "outputs": [
    {
     "data": {
      "text/plain": "<Figure size 432x720 with 10 Axes>",
      "image/png": "[encoded data removed]"
     },
     "metadata": {
      "needs_background": "light"
     },
     "output_type": "display_data"
    }
   ],
   "source": [
    "idx = 0\n",
    "obs = obs_test[idx*batch_size:(idx+1)*batch_size,:,:,:]\n",
    "obs = pad_along_axis(obs, 256, axis=[1,2])\n",
    "pred = vae.decode(vae.encode(obs))\n",
    "\n",
    "#a = vae.encode(X_train[idx*batch_size:(idx+1)*batch_size,:,:,:].reshape((100,64,64,3)))\n",
    "#print(a.shape)\n",
    "#decoded_imgs = vae.decode(a)\n",
    "#print(logvar)\n",
    "\n",
    "\n",
    "n = 5\n",
    "_, ax = plt.subplots(n,2, figsize=(6,10))\n",
    "\n",
    "for i, ind in enumerate(random.sample(range(batch_size), n)):\n",
    "    # display original\n",
    "    ax[i,0].imshow(obs[ind,:,:,:].reshape(256, 256, 3))\n",
    "    ax[i,0].get_xaxis().set_visible(False)\n",
    "    ax[i,0].get_yaxis().set_visible(False)\n",
    "    \n",
    "    # display reconstruction\n",
    "    ax[i,1].imshow(pred[ind,:,:,:].reshape(256, 256, 3))\n",
    "    ax[i,1].get_xaxis().set_visible(False)\n",
    "    ax[i,1].get_yaxis().set_visible(False)\n",
    "plt.tight_layout()\n",
    "plt.show()\n",
    "    \n",
    "    "
   ],
   "metadata": {
    "collapsed": false,
    "pycharm": {
     "name": "#%%\n",
     "is_executing": false
    }
   }
  }
 ],
 "metadata": {
  "language_info": {
   "codemirror_mode": {
    "name": "ipython",
    "version": 2
   },
   "file_extension": ".py",
   "mimetype": "text/x-python",
   "name": "python",
   "nbconvert_exporter": "python",
   "pygments_lexer": "ipython2",
   "version": "2.7.6"
  },
  "kernelspec": {
   "name": "python3",
   "language": "python",
   "display_name": "Python 3"
  },
  "pycharm": {
   "stem_cell": {
    "cell_type": "raw",
    "source": [],
    "metadata": {
     "collapsed": false
    }
   }
  }
 },
 "nbformat": 4,
 "nbformat_minor": 0
}